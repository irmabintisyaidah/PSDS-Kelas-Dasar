{
 "cells": [
  {
   "cell_type": "markdown",
   "metadata": {
    "colab_type": "text",
    "id": "view-in-github"
   },
   "source": [
    "<a href=\"https://colab.research.google.com/github/eliyanto29/Pusat-Studi-Data-Sains-UAD/blob/main/Modul_5_Plotly.ipynb\" target=\"_parent\"><img src=\"https://colab.research.google.com/assets/colab-badge.svg\" alt=\"Open In Colab\"/></a>"
   ]
  },
  {
   "cell_type": "markdown",
   "metadata": {
    "id": "VBRuyzgZ_RLz"
   },
   "source": [
    "# Visualisasi Data Dengan **PLOTLY** Dasar\n",
    "Pusat Studi Data Sains (PSDS) Program Studi Matematika UAD"
   ]
  },
  {
   "cell_type": "markdown",
   "metadata": {
    "id": "UhirA2BuAm7C"
   },
   "source": [
    "### **Pengenalan Plotly**"
   ]
  },
  {
   "cell_type": "markdown",
   "metadata": {
    "id": "PjNf_h0e_hA2"
   },
   "source": [
    "Plotly adalah salah satu modul untuk visualisasi pada python. Modul ini memiliki kelebihan untuk membuat visualisasi data yang interaktif. Informasi lengkap mengenai modul ini bisa diperoleh di link di bawah ini:\n",
    "\n",
    "https://plotly.com/python/basic-charts/\n",
    "\n",
    "\n",
    "Modul lain untuk visualisasi yang biasa digunakan adalah Matplotlib dan Seaborn. Keduanya adalah modul visualisasi yang tidak interaktif. Kemudian, perlu diketahui juga bahwa Seaborn dibangun berdasarkan Matplotlib, sehingga Seaborn merupakan modul Matplotlib yang lebih advance."
   ]
  },
  {
   "cell_type": "markdown",
   "metadata": {
    "id": "PUbxz87jAlLm"
   },
   "source": [
    "### **Aktivitas Modul**"
   ]
  },
  {
   "cell_type": "markdown",
   "metadata": {
    "id": "yImZL6I_AwPr"
   },
   "source": [
    "Pada modul ini, temen-temen akan belajar dengan mandiri. Untuk data memahami modul ini dengan baik, temen-temen harus melakukan semua aktivitas di modul ini sendiri. Setiap materi contoh visualisasi disajikan dalam bentuk gambar, sehingga untuk bisa melakukan visualisasi temen-temen harus mengetikkannya pada cell code di bawahnya. Jika terjadi kesalahan, ucapkan istigfar, dan cek kembali apakah ketikan program anda sudah benar atau masih terdapat kesalahan. Kesalahan kecil seperti kurang koma, spasi, dan lainnya sangat sensitif pada aktivitas ini. Fokuslah pada modul kalian masing-masing dan jangan sibuk bertanya kepada teman kalian saat koding kamu error, karena fokus untuk memperbaiki kesalahan sendiri jauh lebih baik daripada mecermati kesalahan orang lain. \n",
    "\n",
    "Terima Kasih\n",
    "\n",
    "Selamat belajar!!!"
   ]
  },
  {
   "cell_type": "code",
   "execution_count": null,
   "metadata": {
    "id": "VnAhHuVmDLsT"
   },
   "outputs": [],
   "source": [
    "#Import Modul PloltLy Express\n",
    "import plotly.express as px"
   ]
  },
  {
   "cell_type": "markdown",
   "metadata": {
    "id": "pGYkJkHcDcVe"
   },
   "source": [
    "### Dasar-dasar Visualisasi Data Menggunakan PlotLy\n",
    "\n",
    "Berikut adalah bagian-bagian pada sebuah halaman visualisasi data pada library PlotLy\n",
    "\n",
    "![alt text](https://drive.google.com/uc?id=1l5LQM3-08pQDEcSAgJJirjvT9aThBfdR\n",
    ")\n",
    "\n"
   ]
  },
  {
   "cell_type": "markdown",
   "metadata": {
    "id": "ntwmnNuIB3Ff"
   },
   "source": [
    "## Scater Plot"
   ]
  },
  {
   "cell_type": "markdown",
   "metadata": {
    "id": "FgJBORwkB5rq"
   },
   "source": [
    "Scatter Plot adalah plot berupa titik-titik data dalam dimensi 2 ataupun 3. Tujuan melakukan plot dalam bentuk ini adalah melihat sebaran data, melihat pola-pola sebaran data dalam bentuk kelompok, bisa juga untuk melihat pola keterkaitan(korelasi), ataupun kedekatan antar titik data. Pada modul ini kita akan mempelajari visualisasi data untuk 2 dimensi dulu."
   ]
  },
  {
   "cell_type": "markdown",
   "metadata": {
    "id": "TOAJPtxbCXBa"
   },
   "source": [
    "Secara umum, susunan sytax untuk Scater Plot pada Modul PlotLy adalah sebagai berikut:\n",
    "\n",
    "Visualisasi data 2 list (list sumbu x dan list sumbu y\n",
    "```\n",
    "import plotly.express as px\n",
    "fig = px.scatter(x=[0, 1, 2, 3, 4], \n",
    "                 y=[0, 1, 4, 9, 16])\n",
    "fig.show()\n",
    "```\n",
    "\n",
    "Visualisasi data 2 list dalam DataFrame\n",
    "\n",
    "```\n",
    "fig = px.scatter(df,                       #DataFrame yang akan di plot\n",
    "                 x=\"sepal_width\",          #Data untuk sumbu X\n",
    "                 y=\"sepal_length\"         #Data untuk sumbu Y\n",
    "                 )\n",
    "```\n",
    "\n",
    "\n"
   ]
  },
  {
   "cell_type": "code",
   "execution_count": null,
   "metadata": {
    "id": "__UUUfXuS-xa"
   },
   "outputs": [],
   "source": [
    "import plotly.express as px\n",
    "import pandas as pd\n",
    "#Menyiapkan Data\n",
    "df = pd.read_csv('https://raw.githubusercontent.com/eliyanto29/My-Academics-Paper-On-Data-Science/master/FCM-Core-and-Reduct/iris_dataset.csv')\n",
    "df['species'] = df['species'].astype('string')"
   ]
  },
  {
   "cell_type": "code",
   "execution_count": null,
   "metadata": {
    "id": "Mh8wYXuA8R4d"
   },
   "outputs": [],
   "source": [
    "#Membuat Plot Scatter\n",
    "fig = px.scatter(df,                       #DataFrame yang akan di plot\n",
    "                 x=\"sepal_width\",          #Data untuk sumbu X\n",
    "                 y=\"sepal_length\",         #Data untuk sumbu Y\n",
    "                 color=\"species\",          #Memberikan Warna (Opsional)\n",
    "                 size=\"petal_length\"       #Memberikan Ukuran (Opsional)\n",
    "                 )\n",
    "#Menambahkan Keterangan\n",
    "fig.update_layout(\n",
    "    #Menambahkan dan mengatur Judul Grafis\n",
    "    title='Iris Dataset', \n",
    "    title_font_color=\"blue\",\n",
    "    title_font_size=30,    \n",
    "    #Menambahkan dan mengatur label sumbu x            \n",
    "    xaxis=dict(\n",
    "        title='Sepal Width',\n",
    "        titlefont_size=16,\n",
    "        tickfont_size=14),\n",
    "    #Menambahkan dan mengatur label sumbu y\n",
    "    yaxis=dict(\n",
    "        title='Sepal Length',\n",
    "        titlefont_size=16,\n",
    "        tickfont_size=14))\n",
    "#Menampilkan Figure\n",
    "fig.show()"
   ]
  },
  {
   "cell_type": "markdown",
   "metadata": {
    "id": "czULWgqpTZp8"
   },
   "source": [
    "## Line Plot"
   ]
  },
  {
   "cell_type": "markdown",
   "metadata": {
    "id": "Yce2YXP_Xgtw"
   },
   "source": [
    "Line Plot atau Diagram garis digunakan untuk mevisualisasikan data dalam bentuk garis. Tujuannya adalah untuk melihat pergerakan sebuah data apakah menaik atau menurun."
   ]
  },
  {
   "cell_type": "code",
   "execution_count": null,
   "metadata": {
    "id": "AvH1H9jpS5Ql"
   },
   "outputs": [],
   "source": [
    "import numpy as np\n",
    "import plotly.graph_objects as go\n",
    "confirmed_cases_file_link='https://raw.githubusercontent.com/CSSEGISandData/COVID-19/master/csse_covid_19_data/csse_covid_19_time_series/time_series_covid19_confirmed_global.csv'\n"
   ]
  },
  {
   "cell_type": "code",
   "execution_count": null,
   "metadata": {
    "id": "Aj6a7vZtPzzM"
   },
   "outputs": [],
   "source": [
    "#Mengambil Data Yang Dibutuhkan\n",
    "confirmed_df=pd.read_csv(confirmed_cases_file_link)\n",
    "confirmed_df=confirmed_df.replace(np.nan,'',regex=True)\n",
    "confirmed_df=confirmed_df.copy().drop(['Lat', 'Long','Province/State'],axis=1)\n",
    "indo_conf_df=confirmed_df[confirmed_df['Country/Region']=='Indonesia']\n",
    "indo_conf=indo_conf_df.transpose()\n",
    "indo_conf=indo_conf[1::]\n",
    "indo_conf.columns=['Conf']\n",
    "\n",
    "kenaikan_conf = []\n",
    "for i in range(len(indo_conf.Conf)-1):\n",
    "  kenaikan_conf.append(indo_conf.Conf[i+1]-indo_conf.Conf[i])\n",
    "\n",
    "index=indo_conf.index"
   ]
  },
  {
   "cell_type": "code",
   "execution_count": null,
   "metadata": {
    "id": "twxi1CB0T7Wc"
   },
   "outputs": [],
   "source": [
    "indo_conf"
   ]
  },
  {
   "cell_type": "code",
   "execution_count": null,
   "metadata": {
    "id": "OXFRSKm9Q8UR"
   },
   "outputs": [],
   "source": [
    "gbr_1=go.Figure()\n",
    "#Membuat Plot Line\n",
    "gbr_1.add_trace(go.Scatter(x=index,\n",
    "                           y=kenaikan_conf, \n",
    "                           name='Konfirmasi',\n",
    "                           mode='lines+markers'))\n",
    "\n",
    "gbr_1.update_layout(\n",
    "    #Menambahkan dan mengatur Judul Grafis\n",
    "    title='Diagram Garis COVID-19 Indonesia Hingga 17 Desember 2020', \n",
    "    title_font_color=\"blue\",\n",
    "    title_font_size=30, \n",
    "    #Menambahkan dan mengatur label sumbu x            \n",
    "    xaxis=dict(\n",
    "        title='Tanggal',\n",
    "        titlefont_size=16,\n",
    "        tickfont_size=14),\n",
    "    #Menambahkan dan mengatur label sumbu y\n",
    "    yaxis=dict(\n",
    "        title='Jumlah',\n",
    "        titlefont_size=16,\n",
    "        tickfont_size=14))\n",
    "\n",
    "gbr_1.show()"
   ]
  },
  {
   "cell_type": "markdown",
   "metadata": {
    "id": "3IUFKdb83WXX"
   },
   "source": [
    "## Bar Plot"
   ]
  },
  {
   "cell_type": "markdown",
   "metadata": {
    "id": "-oXGLqSa3Yd3"
   },
   "source": [
    "Bar plot atau diagram batang, diagra ini cocok untuk membandingkan nilai data yang cukup banyak. Berfungsi untuk melihat kenaikan atau penurunan data."
   ]
  },
  {
   "cell_type": "code",
   "execution_count": null,
   "metadata": {
    "id": "WG7ELhW-UPz6"
   },
   "outputs": [],
   "source": [
    "indo_conf_minggu_terakhir=indo_conf.iloc[-14:,::]\n",
    "indo_conf2=indo_conf_minggu_terakhir\n",
    "indo_conf2"
   ]
  },
  {
   "cell_type": "code",
   "execution_count": null,
   "metadata": {
    "id": "ezGbsj6xKaxU"
   },
   "outputs": [],
   "source": [
    "#Membuat Plot Bar\n",
    "gbr_3 = px.bar(indo_conf2, \n",
    "               x=indo_conf2.index, \n",
    "               y='Conf')\n",
    "\n",
    "gbr_3.update_layout(\n",
    "    #Menambahkan dan mengatur Judul Grafis\n",
    "    title='Diagram Garis COVID-19 Indonesia 2 Minggu Terakhir 2020', \n",
    "    title_font_color=\"blue\",\n",
    "    title_font_size=30, \n",
    "    #Menambahkan dan mengatur label sumbu x            \n",
    "    xaxis=dict(\n",
    "        title='Tanggal',\n",
    "        titlefont_size=16,\n",
    "        tickfont_size=14),\n",
    "    #Menambahkan dan mengatur label sumbu y\n",
    "    yaxis=dict(\n",
    "        title='Jumlah',\n",
    "        titlefont_size=16,\n",
    "        tickfont_size=14))\n",
    "\n",
    "gbr_3.show()"
   ]
  },
  {
   "cell_type": "markdown",
   "metadata": {
    "id": "hPHOJXn53h6S"
   },
   "source": [
    "## Pie Plot"
   ]
  },
  {
   "cell_type": "markdown",
   "metadata": {
    "id": "zE-vq7Qe3mf5"
   },
   "source": [
    "Vsualisasi diagram lingkaran fokus untuk menampilkan perbandingan data. Lebih baik digunakan untuk jumlah variabel yang sedikit."
   ]
  },
  {
   "cell_type": "code",
   "execution_count": null,
   "metadata": {
    "id": "c14nk9MWU7u0"
   },
   "outputs": [],
   "source": [
    "import plotly.graph_objects as go\n",
    "\n",
    "labels = ['Oxygen','Hydrogen','Carbon_Dioxide','Nitrogen']\n",
    "values = [4500, 2500, 1053, 500]\n",
    "\n",
    "fig = go.Figure(data=[go.Pie(labels=labels, values=values)])\n",
    "fig.show()"
   ]
  },
  {
   "cell_type": "markdown",
   "metadata": {
    "id": "eF5jwskZXLuD"
   },
   "source": [
    "Tugas Pie Plot\n",
    "\n",
    "Buatlah Suatu Visualisasi Data Pie Plot lengkap dengan Tittle dan Legend dengan datamu sendiri!"
   ]
  },
  {
   "cell_type": "code",
   "execution_count": null,
   "metadata": {
    "id": "NRRs1RddXXU1"
   },
   "outputs": [],
   "source": [
    "#Ketikkan Kodemu Di Ini\n",
    "\n",
    "\n"
   ]
  },
  {
   "cell_type": "markdown",
   "metadata": {
    "id": "nl8xManYESG5"
   },
   "source": [
    "## Network/Graph"
   ]
  },
  {
   "cell_type": "markdown",
   "metadata": {
    "id": "NP6k1JEjEKG7"
   },
   "source": [
    "Mungkin ada beberapa temen-temen yang sudah mengetahuii teori tentang graph atau belum. Pada intinya graph itu untuk menggambarkan hubungan antara titik data menggunakan garis. Jika kedua titik ada hubungan maka dihubungkan, kalau tidak ya tidak. Lebih lengkapnya, baca artikel ini **WAJIB**: \n",
    "\n",
    "[Teori Graph, Sejarah dan Manfaatnya](https://https://mti.binus.ac.id/2018/03/05/teori-graph-sejarah-dan-manfaatnya/)\n",
    "\n",
    "\n",
    "Nah, mari kita membuat graph kita sendiri. \n",
    "\n"
   ]
  },
  {
   "cell_type": "code",
   "execution_count": null,
   "metadata": {
    "id": "AaSL3t6nEJeq"
   },
   "outputs": [],
   "source": [
    "from operator import itemgetter\n",
    "from networkx.algorithms import community\n",
    "import networkx as nx\n",
    "import pandas as pd\n",
    "import matplotlib.pyplot as plt"
   ]
  },
  {
   "cell_type": "markdown",
   "metadata": {
    "id": "VFt61L2fEXfi"
   },
   "source": [
    "Intinya graph itu terdiri dari dua hal penting yaitu nodes(titik) dan edges(garis hubung).\n",
    "\n",
    "File excelnya di download dulu di GC terus diupload di sini ya. Kayak yang pandas kemarin loh."
   ]
  },
  {
   "cell_type": "code",
   "execution_count": null,
   "metadata": {
    "id": "C8zBtDOwEVWT"
   },
   "outputs": [],
   "source": [
    "#Mengakses Dataset\n",
    "#Dataset titik\n",
    "nodes_df=pd.read_excel('/content/migrasi_penduduk.xlsx', sheet_name='nodes')\n",
    "nodes_df"
   ]
  },
  {
   "cell_type": "code",
   "execution_count": null,
   "metadata": {
    "id": "LCMZvAZDEdhi"
   },
   "outputs": [],
   "source": [
    "#Dataset edge\n",
    "edges_df = pd.read_excel('/content/migrasi_penduduk.xlsx', sheet_name='edges')\n",
    "edges_df.head()"
   ]
  },
  {
   "cell_type": "markdown",
   "metadata": {
    "id": "5vVKSrWbEbEo"
   },
   "source": [
    "Pada kasus ini, kita akan membuat graph tentang laju migrasi penduduk di Indonesia saat pandemi. (Data Simulasi) Untuk membuat graphnya bisa mneggunakan code berikut:"
   ]
  },
  {
   "cell_type": "code",
   "execution_count": null,
   "metadata": {
    "id": "O30A_2S5EgxO"
   },
   "outputs": [],
   "source": [
    "#Menyiapkan data\n",
    "node_names = list(nodes_df.id)\n",
    "edges=edges_df[['origin','destination']]\n",
    "edges.to_csv('edges_direction.csv')\n",
    "edges = list(zip(edges_df.origin, edges_df.destination))\n",
    "edge_value=edges_df['count']/100000\n",
    "#Membuat Graph\n",
    "G = nx.DiGraph()\n",
    "G.add_nodes_from(node_names)\n",
    "G.add_edges_from(edges)\n",
    "print(nx.info(G))"
   ]
  },
  {
   "cell_type": "markdown",
   "metadata": {
    "id": "qA0h_v9xEivK"
   },
   "source": [
    "Nah pada akhir code di atas kita mendapat indformasi tentang graph yang sudah kita buat yaitu 21 titik(kota) dan 83 edge(jalur migrasi antar kota). Dua hal baris terakhir diabaikan dulu. Kita fokus untuk temen-temen bisa plot dulu aja. Bagi yang tertarik bisa memperdalam sendiri untuk bidang ini\n",
    "\n",
    "Kemudian, kita akan melakukan vusialisasi graph. Tiap titik nanti akan diberi bobot atau ukuran didasarkan derajat centralitasnya. Apa itu? coba dicari di google hehehe. Tapi intinya derajat centralitas ini menggambarkan ke centralan titik pada graph, makin tinggi maka makin menggambarkan bahwa titik itu menjadi centarl pada suatu kelompok titik. Artinya titik ini bahkan bisa terhubung ke semua titik yang lainnya dan dia menjadi pusat dari kumpulan titik-titik itu."
   ]
  },
  {
   "cell_type": "code",
   "execution_count": null,
   "metadata": {
    "id": "Wnw4jWylEpWb"
   },
   "outputs": [],
   "source": [
    "#Seting layout\n",
    "pos = nx.spring_layout(G)\n",
    "#Menhitung derajat sentralitas\n",
    "degCent = nx.degree_centrality(G)\n",
    "#Mewarnai titik\n",
    "node_color = [20000.0 * G.degree(v) for v in G]\n",
    "#Memberi ukuran pada titik\n",
    "node_size =  [v * 10000 for v in degCent.values()]\n",
    "plt.figure(figsize=(15,15))\n",
    "#Plot graph\n",
    "nx.draw_networkx(G, pos=pos, with_labels=True,\n",
    "                 node_color=node_color,\n",
    "                 node_size=node_size,\n",
    "                 width=edge_value)\n",
    "plt.axis('off')\n",
    "#Mengurutkan kota berdasarrkan nilai derajar centralitasnya\n",
    "sorted(degCent, key=degCent.get, reverse=True)[:3]\n"
   ]
  },
  {
   "cell_type": "markdown",
   "metadata": {
    "id": "cyQgcx1JEsIU"
   },
   "source": [
    "Dari hasil di atas dapat disimpulkan tiga kota prioritas lockdown karena menjadi central atas kota-kota disekitarnya adalah Semarang, Bandung dan Surabaya."
   ]
  },
  {
   "cell_type": "markdown",
   "metadata": {
    "id": "vcUiCJ55Euf0"
   },
   "source": [
    "## Word Cloud"
   ]
  },
  {
   "cell_type": "markdown",
   "metadata": {
    "id": "3gbttnoFEyIK"
   },
   "source": [
    "Kalo ini keren lagi, kita mau melakukan plot kata-kata gitu gaes. Jadi nanti kata-kata yang sering dibahas diplot lebih besar dan sebaliknya. Gituuu"
   ]
  },
  {
   "cell_type": "code",
   "execution_count": null,
   "metadata": {
    "id": "JTrcKw9REver"
   },
   "outputs": [],
   "source": [
    "from wordcloud import WordCloud, STOPWORDS \n",
    "import matplotlib.pyplot as plt \n",
    "import pandas as pd "
   ]
  },
  {
   "cell_type": "code",
   "execution_count": null,
   "metadata": {
    "id": "ko5Osv7yE0uQ"
   },
   "outputs": [],
   "source": [
    "# Membuka data\n",
    "# File csv ada di GC\n",
    "df = pd.read_csv(r\"/content/Youtube02-KatyPerry.csv\", encoding =\"latin-1\") \n",
    "  \n",
    "comment_words = '' \n",
    "stopwords = set(STOPWORDS) \n",
    "  \n",
    "# Melakukan iterasi \n",
    "for val in df.CONTENT: \n",
    "      \n",
    "    # mengubah nilai ke dalam bentuk string \n",
    "    val = str(val) \n",
    "  \n",
    "    # memecah kalimat menjadi kata-kata\n",
    "    tokens = val.split() \n",
    "      \n",
    "    # mengubah menjadi huruf kecil\n",
    "    for i in range(len(tokens)): \n",
    "        tokens[i] = tokens[i].lower() \n",
    "      \n",
    "    comment_words += \" \".join(tokens)+\" \"\n",
    "  \n",
    "wordcloud = WordCloud(width = 800, height = 800, \n",
    "                background_color ='white', \n",
    "                stopwords = stopwords, \n",
    "                min_font_size = 10).generate(comment_words) \n",
    "  \n",
    "# Melakukan plot                    \n",
    "plt.figure(figsize = (8, 8), facecolor = None) \n",
    "plt.imshow(wordcloud) \n",
    "plt.axis(\"off\") \n",
    "plt.tight_layout(pad = 0) \n",
    "  \n",
    "plt.show() "
   ]
  }
 ],
 "metadata": {
  "colab": {
   "authorship_tag": "ABX9TyNxq+Qda24cSgApvihBu5tW",
   "include_colab_link": true,
   "name": "Modul 5-Plotly.ipynb",
   "provenance": [],
   "toc_visible": true
  },
  "kernelspec": {
   "display_name": "Python 3",
   "language": "python",
   "name": "python3"
  },
  "language_info": {
   "codemirror_mode": {
    "name": "ipython",
    "version": 3
   },
   "file_extension": ".py",
   "mimetype": "text/x-python",
   "name": "python",
   "nbconvert_exporter": "python",
   "pygments_lexer": "ipython3",
   "version": "3.8.5"
  }
 },
 "nbformat": 4,
 "nbformat_minor": 1
}
