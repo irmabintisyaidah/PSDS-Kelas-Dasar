{
  "nbformat": 4,
  "nbformat_minor": 0,
  "metadata": {
    "colab": {
      "name": "Python Numpy Untuk Pengembangan Matematika.ipynb",
      "provenance": [],
      "collapsed_sections": [],
      "toc_visible": true
    },
    "kernelspec": {
      "name": "python3",
      "display_name": "Python 3"
    },
    "language_info": {
      "name": "python"
    }
  },
  "cells": [
    {
      "cell_type": "markdown",
      "metadata": {
        "id": "W6FLlh_BDNA9"
      },
      "source": [
        "## Python Numpy Untuk Pengembangan Matematika\n",
        "Assalamualaikum warahmatullahi wabarakatuh.\n",
        "Robbi Zidni Ilma Warzuqni Fahma\n",
        "Selamat datang di salah satu notebook utama Kelas Dasar, Pejuang Data 2.0.\n",
        "\n",
        "Dalam Notebook ini, temen-temen akan belajar menggunakan Numpy untuk menuliskan model-model atau permasalahan matematika untuk pengembangan dan penelitian.\n",
        "\n",
        "Ini adalah salah satu tujuan utama kelas ini, yaitu memberikan bekal kepada mahasiswa Matematika agar bisa membangun sendiri model-model permasalahan Matematika ke dalam bahasa pemrograman Python. \n",
        "\n",
        "Ada beberapa tips agar bisa dengan cepat bisa membuat pemrograman dari suatu model matematika:\n",
        "1. Pahami benar model atau langkah-langkah suatu metode(misal model Regresi Linear).\n",
        "2. Pahami tipe data berkaitan dengan metode tersebut(numerik atau string). Jika berkaitan dengan bilangan float maka perhatikan dengan baik pembulatan yang terjadi saat proses penghitungan.\n",
        "3. Kuasai benar konsep dasar pemrograman seperti if, for loop, while loop, function, inout-output, dll.\n",
        "4. Sering berlatih membuat kode from scratch(dari dasar) bukan memnggunakan library atau packages\n",
        "\n"
      ]
    },
    {
      "cell_type": "markdown",
      "metadata": {
        "id": "cN7PRZVeExRy"
      },
      "source": [
        "## Beberapa Contoh Sederhana"
      ]
    },
    {
      "cell_type": "markdown",
      "metadata": {
        "id": "HigQ7QUrE0ME"
      },
      "source": [
        "### Mean, Median, Modus"
      ]
    },
    {
      "cell_type": "code",
      "metadata": {
        "id": "Qc1337mqDH17"
      },
      "source": [
        "import numpy as np\n",
        "dataset=np.array([1,1,2,3,4,6,18])"
      ],
      "execution_count": 3,
      "outputs": []
    },
    {
      "cell_type": "markdown",
      "metadata": {
        "id": "PWDDbpc-FUtz"
      },
      "source": [
        "**Mean, Median, Modus** menggunakan function numpy"
      ]
    },
    {
      "cell_type": "code",
      "metadata": {
        "colab": {
          "base_uri": "https://localhost:8080/"
        },
        "id": "040-__DIFILj",
        "outputId": "b237e4fd-1e7b-4862-b422-86fcda6d0e0f"
      },
      "source": [
        "#Rata-rata\n",
        "Rata2=np.mean(dataset)\n",
        "print('Rata-rata', Rata2)\n",
        "\n",
        "#Median\n",
        "Median=np.median(dataset)\n",
        "print('Median', Median)\n",
        "\n",
        "#Modus\n",
        "from scipy import stats\n",
        "Modus=stats.mode(dataset)\n",
        "print('Modus', Modus)"
      ],
      "execution_count": 4,
      "outputs": [
        {
          "output_type": "stream",
          "text": [
            "Rata-rata 5.0\n",
            "Median 3.0\n",
            "Modus ModeResult(mode=array([1]), count=array([2]))\n"
          ],
          "name": "stdout"
        }
      ]
    },
    {
      "cell_type": "markdown",
      "metadata": {
        "id": "0Xe-QMzSG6-u"
      },
      "source": [
        "Khusus untuk Modus kita mengimpor suatu fungsi stats dari Library Scipy yang merupakan Library Numpy yang lebih lengkap untuk Matematika dan Data Science. Di sana tersedia fungsi-fungsi untuk kalkulus, PD dll. Mirip seperti tool box pada Matlab.\n"
      ]
    },
    {
      "cell_type": "markdown",
      "metadata": {
        "id": "LAnOojflHb7y"
      },
      "source": [
        "Notebook ini disusun untuk temen-temen memahami proses pembangunan koding dari dasar. Pada saat pembelajaran nanti kita akan fokus pada ide, masalah, dan step by step penyelesaiannya."
      ]
    },
    {
      "cell_type": "markdown",
      "metadata": {
        "id": "8QaJOFoUH2UQ"
      },
      "source": [
        "**Mean**\n",
        "\n",
        "Jawab pertanyaan-pertanyaan berikut untuk membuat program/fungsi untuk menghitung mean.\n",
        "\n",
        "1. Apa itu mean?\n",
        "2. Bagaimana cara menghitung mean?\n",
        "3. Apa yang harus diketahui(Input)?\n",
        "4. Apa yang akan dihasilkan?\n",
        "5. Apa masalah yang mungkin menghalangi?"
      ]
    },
    {
      "cell_type": "markdown",
      "metadata": {
        "id": "Kd4zV8tOIrDe"
      },
      "source": [
        "Berikut contoh koding menghitung mean dalam bahasa Inggris. Silahkan gunakan sebagai petunjuk!!!\n",
        "\n",
        "```\n",
        "num_list = [21, 11, 19, 3,11,5]\n",
        "# FInd sum of the numbers\n",
        "num_sum = sum(num_list)\n",
        "#divide the sum with length of the list\n",
        "mean = num_sum / len(num_list)\n",
        "print(num_list)\n",
        "print(\"Mean of the above list of numbers is: \" + str(round(mean,2)))\n",
        "```"
      ]
    },
    {
      "cell_type": "code",
      "metadata": {
        "id": "-FQI1ghHIoGb"
      },
      "source": [
        "# Mean\n",
        "# Buatlah program/fungsi menghitung mean di sini!\n",
        "\n",
        "\n",
        "\n",
        "\n",
        "\n"
      ],
      "execution_count": null,
      "outputs": []
    },
    {
      "cell_type": "markdown",
      "metadata": {
        "id": "bb3KeThMIu3Z"
      },
      "source": [
        "**Median**"
      ]
    },
    {
      "cell_type": "markdown",
      "metadata": {
        "id": "gwpWLRjMI2GI"
      },
      "source": [
        "Jawab pertanyaan-pertanyaan berikut untuk membuat program/fungsi untuk menghitung mean.\n",
        "\n",
        "1. Apa itu median?\n",
        "2. Bagaimana cara menghitung median?\n",
        "3. Adakah masalah percabangan atau perulangan?\n",
        "4. Apa yang harus diketahui(Input)?\n",
        "5. Apa yang akan dihasilkan?\n",
        "6. Apa masalah yang mungkin menghalangi?"
      ]
    },
    {
      "cell_type": "markdown",
      "metadata": {
        "id": "oLcGkLjZIoGa"
      },
      "source": [
        "Berikut contoh koding menghitung mean dalam bahasa Inggris. Silahkan gunakan sebagai petunjuk!!!\n",
        "\n",
        "```\n",
        "num_list = [21, 13, 19, 3,11,5]\n",
        "# Sort the list\n",
        "num_list.sort()\n",
        "# Finding the position of the median\n",
        "if len(num_list) % 2 == 0:\n",
        "   first_median = num_list[len(num_list) // 2]\n",
        "   second_median = num_list[len(num_list) // 2 - 1]\n",
        "   median = (first_median + second_median) / 2\n",
        "else:\n",
        "   median = num_list[len(num_list) // 2]\n",
        "print(num_list)\n",
        "print(\"Median of above list is: \" + str(median))\n",
        "```"
      ]
    },
    {
      "cell_type": "code",
      "metadata": {
        "id": "B9yMOdteJIVA"
      },
      "source": [
        "# Median\n",
        "# Buatlah program/fungsi menghitung median di sini!\n",
        "\n",
        "\n",
        "\n",
        "\n",
        "\n",
        "\n",
        "\n"
      ],
      "execution_count": null,
      "outputs": []
    },
    {
      "cell_type": "markdown",
      "metadata": {
        "id": "UBkGY3mfJOgk"
      },
      "source": [
        "**Modus**"
      ]
    },
    {
      "cell_type": "markdown",
      "metadata": {
        "id": "TAzaPS07JOgk"
      },
      "source": [
        "Jawab pertanyaan-pertanyaan berikut untuk membuat program/fungsi untuk menghitung mean.\n",
        "\n",
        "1. Apa itu modus?\n",
        "2. Bagaimana cara menghitung modus?\n",
        "3. Adakah masalah percabangan atau perulangan?\n",
        "4. Apa yang harus diketahui(Input)?\n",
        "5. Apa yang akan dihasilkan?\n",
        "6. Apa masalah yang mungkin menghalangi?"
      ]
    },
    {
      "cell_type": "markdown",
      "metadata": {
        "id": "wfkohVPMJOgl"
      },
      "source": [
        "Berikut contoh koding menghitung mean dalam bahasa Inggris. Silahkan gunakan sebagai petunjuk!!!\n",
        "\n",
        "```\n",
        "import collections\n",
        "# list of elements to calculate mode\n",
        "num_list = [21, 13, 19, 13,19,13]\n",
        "\n",
        "# Print the list\n",
        "print(num_list)\n",
        "\n",
        "# calculate the frequency of each item\n",
        "data = collections.Counter(num_list)\n",
        "data_list = dict(data)\n",
        "\n",
        "# Print the items with frequency\n",
        "print(data_list)\n",
        "\n",
        "# Find the highest frequency\n",
        "max_value = max(list(data.values()))\n",
        "mode_val = [num for num, freq in data_list.items() if freq == max_value]\n",
        "if len(mode_val) == len(num_list):\n",
        "   print(\"No mode in the list\")\n",
        "else:\n",
        "   print(\"The Mode of the list is : \" + ', '.join(map(str, mode_val)))\n",
        "```"
      ]
    },
    {
      "cell_type": "code",
      "metadata": {
        "id": "H_9_1DvLJOgl"
      },
      "source": [
        "# Modus\n",
        "# Buatlah program/fungsi menghitung Modus di sini!\n",
        "\n",
        "\n",
        "\n",
        "\n",
        "\n",
        "\n",
        "\n"
      ],
      "execution_count": null,
      "outputs": []
    },
    {
      "cell_type": "markdown",
      "metadata": {
        "id": "DpBiMZoEJeQ_"
      },
      "source": [
        "## Ngoding Regresi Linear"
      ]
    },
    {
      "cell_type": "markdown",
      "metadata": {
        "id": "cVnpnTHDJhHb"
      },
      "source": [
        "Pada bagian ini kamu akan berlatih membuat kode pemrograman didasarkan pada sebuah penghitungan matematis yang sudah tersedia. Mulai dengan langkah-langkah sederhana dan contoh yang sederhana."
      ]
    },
    {
      "cell_type": "markdown",
      "metadata": {
        "id": "sk1wtVn8LBU8"
      },
      "source": [
        "Regresi Linear adalah ...\n",
        "\n",
        "https://teknikelektronika.com/analisis-regresi-linear-sederhana-simple-linear-regression/\n",
        "\n",
        "\n",
        "https://www.geeksforgeeks.org/linear-regression-python-implementation/\n",
        "\n",
        "\n"
      ]
    },
    {
      "cell_type": "markdown",
      "metadata": {
        "id": "AXq5q2bSJtuK"
      },
      "source": [
        "**[1] Import Library yang dibutuhkan**\n"
      ]
    },
    {
      "cell_type": "code",
      "metadata": {
        "id": "y3IrlqJfKMms"
      },
      "source": [
        "#Impor library numpy\n",
        "\n"
      ],
      "execution_count": null,
      "outputs": []
    },
    {
      "cell_type": "markdown",
      "metadata": {
        "id": "TP4QODpDKbrL"
      },
      "source": [
        "**[2] Siapkan Data Dalam Bentuk Array**\n",
        "\n",
        "Siapkan data x dan y sebagai berikut:\n",
        "\n",
        "```\n",
        "x=[0, 1, 2, 3, 4, 5, 5, 7, 8, 9]\n",
        "y=[1, 3, 2, 5, 7, 8, 8, 9, 10, 12]\n",
        "\n",
        "```"
      ]
    },
    {
      "cell_type": "code",
      "metadata": {
        "id": "vffaYMUqK1au"
      },
      "source": [
        "# Dataset yang digunakan\n",
        "# Data x\n",
        "\n",
        "\n",
        "# Data y\n"
      ],
      "execution_count": null,
      "outputs": []
    },
    {
      "cell_type": "markdown",
      "metadata": {
        "id": "hpJ5HUDfK4GF"
      },
      "source": [
        "**[3] Menghitung Jumlah Data**"
      ]
    },
    {
      "cell_type": "code",
      "metadata": {
        "id": "dSKTWa_ELbkz"
      },
      "source": [
        "# Menghitung jumlah data (x)\n",
        "# Simpan dalam variabel n\n",
        "\n"
      ],
      "execution_count": null,
      "outputs": []
    },
    {
      "cell_type": "markdown",
      "metadata": {
        "id": "MOp9oi5TLlLc"
      },
      "source": [
        "**[4] Menghitung rata-rata masing-masing vektor x dan y**"
      ]
    },
    {
      "cell_type": "code",
      "metadata": {
        "id": "KVsym4bJLrLw"
      },
      "source": [
        "# Menghitung rata-rata vektor x dan y\n",
        "# Simpan dalam m_x\n",
        "\n",
        "\n",
        "# Simpan dalam m_y"
      ],
      "execution_count": null,
      "outputs": []
    },
    {
      "cell_type": "markdown",
      "metadata": {
        "id": "rmHLx_PeOqEQ"
      },
      "source": [
        "**[5] Hitung cross-deviation dan deviation dari x**\n",
        "```\n",
        "SS_xy=jumlahan(y*x)-(n*mean(y)*mean(x))\n",
        "SS_xx=jumlahan(x*x)-(n*mean(x)*mean(x))\n",
        "```"
      ]
    },
    {
      "cell_type": "code",
      "metadata": {
        "id": "eSJ-PoR0PFOn"
      },
      "source": [
        "## SS_xy\n",
        "\n",
        "\n",
        "## SS_xx\n",
        "\n"
      ],
      "execution_count": null,
      "outputs": []
    },
    {
      "cell_type": "markdown",
      "metadata": {
        "id": "CfBcOQg0LyGv"
      },
      "source": [
        "**[6] Menghitung koefisien regresi b1 dan b0**\n",
        "\n",
        "```\n",
        "b_1 = SS_xy / SS_xx\n",
        "b_0 = m_y - b_1*m_x\n",
        "```"
      ]
    },
    {
      "cell_type": "code",
      "metadata": {
        "id": "1nafVsHFPqdG"
      },
      "source": [
        "## b_1\n",
        "\n",
        "\n",
        "## b_0"
      ],
      "execution_count": null,
      "outputs": []
    },
    {
      "cell_type": "markdown",
      "metadata": {
        "id": "YBMjLBgFPtkB"
      },
      "source": [
        "**[7] Prediksi Model**\n",
        "\n",
        "```\n",
        "y_pred = b_0 + b_1*x\n",
        "```"
      ]
    },
    {
      "cell_type": "code",
      "metadata": {
        "id": "ZAnHnZUMP749"
      },
      "source": [
        "## Y pred\n",
        "\n"
      ],
      "execution_count": null,
      "outputs": []
    },
    {
      "cell_type": "markdown",
      "metadata": {
        "id": "ZZV8OmcqP7bV"
      },
      "source": [
        "**[8] Menghitung selisih hasil prediksi dengan data sebenarnya**\n",
        "\n",
        "Galat= vektor y_pred - vektor y\n"
      ]
    },
    {
      "cell_type": "code",
      "metadata": {
        "id": "bQuaO4c1QNMm"
      },
      "source": [
        "# Galat\n",
        "\n"
      ],
      "execution_count": null,
      "outputs": []
    }
  ]
}